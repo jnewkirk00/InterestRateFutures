{
 "cells": [
  {
   "cell_type": "markdown",
   "metadata": {},
   "source": [
    "# Interest Rate Futures Pricing and DV01\n",
    "This notebook calculates a model price and DV01 for a Treasury bond futures contract. It does so using QuantLib and publicly availalble data. The example focuses on a futures contract on the 30-year bond but the data sources and mechanics would work similarly for others.\n",
    "\n",
    "This example utilizes the QuantLib Python Cookbook written by Goutham Balaraman and Luigi Ballabio. This is a very useful book and I recommend it.\n",
    "\n",
    "Treasury rate data is obtained through Quandl. This data is Constant Maturity Treasury data instead of actual Treasury Bills/Notes/Bonds because I haven't found that available freely.\n",
    "\n",
    "The list of deliverable Treasuries, as part of the futures contract, are obtained from QuickStrick via the CME website."
   ]
  },
  {
   "cell_type": "markdown",
   "metadata": {},
   "source": [
    "# Libraries"
   ]
  },
  {
   "cell_type": "code",
   "execution_count": 1,
   "metadata": {
    "collapsed": true
   },
   "outputs": [],
   "source": [
    "import quandl\n",
    "from QuantLib import *\n",
    "import math\n",
    "import pandas as pd\n",
    "import numpy as np\n",
    "from datetime import datetime\n",
    "\n",
    "from selenium import webdriver\n",
    "from selenium.webdriver.common import keys\n",
    "from selenium.webdriver.support.ui import WebDriverWait\n",
    "from selenium.webdriver.support import expected_conditions\n",
    "from selenium.webdriver.common.by import By\n",
    "from bs4 import BeautifulSoup\n",
    "from collections import OrderedDict\n",
    "import os.path\n",
    "import textwrap\n",
    "import getpass\n",
    "\n",
    "import warnings"
   ]
  },
  {
   "cell_type": "markdown",
   "metadata": {},
   "source": [
    "# Market Data\n",
    "## Constant Maturity Treasuries"
   ]
  },
  {
   "cell_type": "code",
   "execution_count": 2,
   "metadata": {
    "collapsed": true
   },
   "outputs": [],
   "source": [
    "quandl.ApiConfig.api_key = 'hog8enrHbV2oq7yP7cNf'\n",
    "Tbill4WK = quandl.get('FRED/DTB4WK')\n",
    "Tbill1MO = quandl.get('FRED/DTB3')\n",
    "Tbill6MO = quandl.get('FRED/DTB6')\n",
    "Tbill1YR = quandl.get('FRED/DTB1YR')\n",
    "Tnote2YR = quandl.get('FRED/DGS2')\n",
    "Tnote3YR = quandl.get('FRED/DGS3')\n",
    "Tnote5YR = quandl.get('FRED/DGS5')\n",
    "Tnote7YR = quandl.get('FRED/DGS7')\n",
    "Tnote10YR = quandl.get('FRED/DGS10')\n",
    "Tbond20YR = quandl.get('FRED/DGS20')\n",
    "Tbond30YR = quandl.get('FRED/DGS30')"
   ]
  },
  {
   "cell_type": "code",
   "execution_count": 3,
   "metadata": {
    "collapsed": true
   },
   "outputs": [],
   "source": [
    "treas_dict = {'Tbill4WK': Tbill4WK, 'Tbill1MO': Tbill1MO, 'Tbill6MO': Tbill6MO,\n",
    "              'Tbill1YR': Tbill1YR, 'Tnote2YR': Tnote2YR, 'Tnote3YR': Tnote3YR,\n",
    "              'Tnote5YR': Tnote5YR, 'Tnote7YR': Tnote7YR, 'Tnote10YR': Tnote10YR,\n",
    "              'Tbond20YR': Tbond20YR, 'Tbond30YR': Tbond30YR}\n",
    "periods_dict = {'Tbill4WK': Period(4, Weeks), 'Tbill1MO': Period(1, Months), 'Tbill6MO': Period(6, Months),\n",
    "                'Tbill1YR': Period(1, Years), 'Tnote2YR': Period(2, Years), 'Tnote3YR': Period(3, Years),\n",
    "                'Tnote5YR': Period(5, Years), 'Tnote7YR':Period(7, Years), 'Tnote10YR': Period(10, Years),\n",
    "                'Tbond20YR': Period(20, Years),'Tbond30YR': Period(30, Years)}"
   ]
  },
  {
   "cell_type": "code",
   "execution_count": 4,
   "metadata": {},
   "outputs": [
    {
     "data": {
      "text/html": [
       "<div>\n",
       "<style>\n",
       "    .dataframe thead tr:only-child th {\n",
       "        text-align: right;\n",
       "    }\n",
       "\n",
       "    .dataframe thead th {\n",
       "        text-align: left;\n",
       "    }\n",
       "\n",
       "    .dataframe tbody tr th {\n",
       "        vertical-align: top;\n",
       "    }\n",
       "</style>\n",
       "<table border=\"1\" class=\"dataframe\">\n",
       "  <thead>\n",
       "    <tr style=\"text-align: right;\">\n",
       "      <th></th>\n",
       "      <th>Tbill4WK</th>\n",
       "      <th>Tbill1MO</th>\n",
       "      <th>Tbill6MO</th>\n",
       "      <th>Tbill1YR</th>\n",
       "      <th>Tnote2YR</th>\n",
       "      <th>Tnote3YR</th>\n",
       "      <th>Tnote5YR</th>\n",
       "      <th>Tnote7YR</th>\n",
       "      <th>Tnote10YR</th>\n",
       "      <th>Tbond20YR</th>\n",
       "      <th>Tbond30YR</th>\n",
       "    </tr>\n",
       "    <tr>\n",
       "      <th>Date</th>\n",
       "      <th></th>\n",
       "      <th></th>\n",
       "      <th></th>\n",
       "      <th></th>\n",
       "      <th></th>\n",
       "      <th></th>\n",
       "      <th></th>\n",
       "      <th></th>\n",
       "      <th></th>\n",
       "      <th></th>\n",
       "      <th></th>\n",
       "    </tr>\n",
       "  </thead>\n",
       "  <tbody>\n",
       "    <tr>\n",
       "      <th>2017-07-27</th>\n",
       "      <td>0.99</td>\n",
       "      <td>1.09</td>\n",
       "      <td>1.11</td>\n",
       "      <td>1.19</td>\n",
       "      <td>1.36</td>\n",
       "      <td>1.52</td>\n",
       "      <td>1.84</td>\n",
       "      <td>2.12</td>\n",
       "      <td>2.32</td>\n",
       "      <td>2.68</td>\n",
       "      <td>2.93</td>\n",
       "    </tr>\n",
       "  </tbody>\n",
       "</table>\n",
       "</div>"
      ],
      "text/plain": [
       "            Tbill4WK  Tbill1MO  Tbill6MO  Tbill1YR  Tnote2YR  Tnote3YR  \\\n",
       "Date                                                                     \n",
       "2017-07-27      0.99      1.09      1.11      1.19      1.36      1.52   \n",
       "\n",
       "            Tnote5YR  Tnote7YR  Tnote10YR  Tbond20YR  Tbond30YR  \n",
       "Date                                                             \n",
       "2017-07-27      1.84      2.12       2.32       2.68       2.93  "
      ]
     },
     "execution_count": 4,
     "metadata": {},
     "output_type": "execute_result"
    }
   ],
   "source": [
    "max_treas = min([treas_dict[treas].index[-1] for treas in list(treas_dict.keys())])\n",
    "treasuries = pd.concat(treas_dict.values(), axis=1).dropna()\n",
    "treasuries.columns = list(treas_dict.keys())\n",
    "treas_curr = treasuries.iloc[treasuries.index==max_treas]\n",
    "treas_curr"
   ]
  },
  {
   "cell_type": "markdown",
   "metadata": {},
   "source": [
    "# Futures Price\n",
    "The code below is used to log-in and scrape the QuickStrike tool provided by CME's website. It extracts the current price of the futures contract on the 30 Year Treasury."
   ]
  },
  {
   "cell_type": "code",
   "execution_count": 5,
   "metadata": {},
   "outputs": [
    {
     "data": {
      "text/plain": [
       "153.09"
      ]
     },
     "execution_count": 5,
     "metadata": {},
     "output_type": "execute_result"
    }
   ],
   "source": [
    "def get_treasury_futures():\n",
    "    warnings.filterwarnings('ignore')\n",
    "    browser = webdriver.Chrome('C:/local/chrome/chromedriver.exe')\n",
    "    browser.get('https://cmegroup.quikstrike.net/Account/Login.aspx?ReturnUrl=/User/QuikStrikeView.aspx')\n",
    "\n",
    "    # Browser options\n",
    "    login = browser.find_element_by_name('ctl00$MainContent$ucLoginControl$LoginUser$UserName')\n",
    "    login.send_keys('jnewkirk')\n",
    "    psswd = browser.find_element_by_name('ctl00$MainContent$ucLoginControl$LoginUser$Password')\n",
    "    psswd.send_keys('l7kme8BFFTnM')\n",
    "    submit = browser.find_element_by_name('ctl00$MainContent$ucLoginControl$LoginUser$LoginButton')\n",
    "    submit.send_keys(keys.Keys.RETURN)\n",
    "    browser.find_element_by_name('chkAccept').click()\n",
    "    browser.find_element_by_name('btnContinue').click()\n",
    "    browser.get(\n",
    "        \"https://cmegroup.quikstrike.net/User/QuikStrikeView.aspx?sc=1&viewitemid=TreasuryDeliveryBasket&mode=&pid=2\")\n",
    "    html = browser.page_source\n",
    "    soup = BeautifulSoup(html, 'lxml')\n",
    "\n",
    "    name = []\n",
    "    symbol = []\n",
    "    price = []\n",
    "    ctd_coupon = []\n",
    "    ctd_maturity_date = []\n",
    "    ctd_issue_date = []\n",
    "    ctd_forward_yield = []\n",
    "    ctd_DV01 = []\n",
    "    otr_coupon = []\n",
    "    otr_maturity_date = []\n",
    "    otr_issue_date = []\n",
    "    otr_forward_yield = []\n",
    "    otr_DV01 = []\n",
    "\n",
    "    for tr in soup.find_all('tr')[2:]:\n",
    "        tds = tr.find_all('td')\n",
    "        name.append((tds[0].text).strip())\n",
    "        symbol.append((tds[1].text).strip())\n",
    "        price.append(float((tds[2].text)))\n",
    "        ctd_coupon.append((tds[3].text).strip())\n",
    "        ctd_maturity_date.append(datetime.strptime(((tds[4].text).strip()), \"%m/%d/%Y\"))\n",
    "        ctd_issue_date.append(datetime.strptime(((tds[5].text).strip()), \"%m/%d/%Y\"))\n",
    "        ctd_forward_yield.append(float((tds[6].text)[:-1]))\n",
    "        ctd_DV01.append(float((tds[7].text)[1:]))\n",
    "        otr_coupon.append((tds[8].text).strip())\n",
    "        otr_maturity_date.append(datetime.strptime(((tds[9].text).strip()), \"%m/%d/%Y\"))\n",
    "        otr_issue_date.append(datetime.strptime(((tds[10].text).strip()), \"%m/%d/%Y\"))\n",
    "        otr_forward_yield.append(float((tds[11].text)[:-1]))\n",
    "        otr_DV01.append(float((tds[12].text)[1:]))\n",
    "\n",
    "    browser.close()\n",
    "\n",
    "    columns = OrderedDict()\n",
    "    columns = {'instrument_name': name, 'symbol': symbol, 'price': price, 'ctd_coupon': ctd_coupon,\n",
    "               'ctd_maturity_date': ctd_maturity_date, 'ctd_issue_date': ctd_issue_date,\n",
    "               'ctd_forward_yield': ctd_forward_yield, 'ctd_DV01': ctd_DV01,\n",
    "               'otr_coupon': otr_coupon, 'otr_maturity_date': otr_maturity_date, 'otr_issue_date': otr_issue_date,\n",
    "               'otr_forward_yield': otr_forward_yield, 'otr_DV01': otr_DV01}\n",
    "    df = pd.DataFrame(columns, columns=columns.keys())\n",
    "    warnings.filterwarnings('always')\n",
    "    return df\n",
    "\n",
    "treasury_futures = get_treasury_futures()\n",
    "treasury_futures_summary = treasury_futures.loc[:,['instrument_name', 'symbol', 'price']]\n",
    "treasury_futures_summary\n",
    "futures_price = treasury_futures_summary[treasury_futures_summary['instrument_name']=='30 Yr']\n",
    "futures_price = np.asscalar(futures_price['price'].values)\n",
    "futures_price"
   ]
  },
  {
   "cell_type": "markdown",
   "metadata": {},
   "source": [
    "# Futures Deliverables\n",
    "The code below is used to log-in and scrape the QuickStrike tool provided by CME's website. It is hard-coded to only pull the deliverables for the futures contract on the 30-year bond.\n"
   ]
  },
  {
   "cell_type": "code",
   "execution_count": 6,
   "metadata": {},
   "outputs": [
    {
     "data": {
      "text/html": [
       "<div>\n",
       "<style>\n",
       "    .dataframe thead tr:only-child th {\n",
       "        text-align: right;\n",
       "    }\n",
       "\n",
       "    .dataframe thead th {\n",
       "        text-align: left;\n",
       "    }\n",
       "\n",
       "    .dataframe tbody tr th {\n",
       "        vertical-align: top;\n",
       "    }\n",
       "</style>\n",
       "<table border=\"1\" class=\"dataframe\">\n",
       "  <thead>\n",
       "    <tr style=\"text-align: right;\">\n",
       "      <th></th>\n",
       "      <th>coupon</th>\n",
       "      <th>maturity</th>\n",
       "      <th>price</th>\n",
       "      <th>CUSIP</th>\n",
       "      <th>issue</th>\n",
       "    </tr>\n",
       "  </thead>\n",
       "  <tbody>\n",
       "    <tr>\n",
       "      <th>0</th>\n",
       "      <td>4.500</td>\n",
       "      <td>2036-02-15</td>\n",
       "      <td>128.4766</td>\n",
       "      <td>912810FT0</td>\n",
       "      <td>2006-02-15</td>\n",
       "    </tr>\n",
       "    <tr>\n",
       "      <th>1</th>\n",
       "      <td>5.000</td>\n",
       "      <td>2037-05-15</td>\n",
       "      <td>136.5313</td>\n",
       "      <td>912810PU6</td>\n",
       "      <td>2007-08-15</td>\n",
       "    </tr>\n",
       "    <tr>\n",
       "      <th>2</th>\n",
       "      <td>4.750</td>\n",
       "      <td>2037-02-15</td>\n",
       "      <td>132.5938</td>\n",
       "      <td>912810PT9</td>\n",
       "      <td>2007-02-15</td>\n",
       "    </tr>\n",
       "    <tr>\n",
       "      <th>3</th>\n",
       "      <td>4.500</td>\n",
       "      <td>2038-05-15</td>\n",
       "      <td>128.7266</td>\n",
       "      <td>912810PX0</td>\n",
       "      <td>2008-08-15</td>\n",
       "    </tr>\n",
       "    <tr>\n",
       "      <th>4</th>\n",
       "      <td>4.375</td>\n",
       "      <td>2038-02-15</td>\n",
       "      <td>126.6719</td>\n",
       "      <td>912810PW2</td>\n",
       "      <td>2008-02-15</td>\n",
       "    </tr>\n",
       "    <tr>\n",
       "      <th>5</th>\n",
       "      <td>4.500</td>\n",
       "      <td>2039-08-15</td>\n",
       "      <td>128.8047</td>\n",
       "      <td>912810QC5</td>\n",
       "      <td>2009-08-17</td>\n",
       "    </tr>\n",
       "    <tr>\n",
       "      <th>6</th>\n",
       "      <td>4.625</td>\n",
       "      <td>2040-02-15</td>\n",
       "      <td>131.0625</td>\n",
       "      <td>912810QE1</td>\n",
       "      <td>2010-02-16</td>\n",
       "    </tr>\n",
       "    <tr>\n",
       "      <th>7</th>\n",
       "      <td>4.250</td>\n",
       "      <td>2039-05-15</td>\n",
       "      <td>124.5625</td>\n",
       "      <td>912810QB7</td>\n",
       "      <td>2009-05-15</td>\n",
       "    </tr>\n",
       "    <tr>\n",
       "      <th>8</th>\n",
       "      <td>4.375</td>\n",
       "      <td>2039-11-15</td>\n",
       "      <td>126.7188</td>\n",
       "      <td>912810QD3</td>\n",
       "      <td>2009-11-16</td>\n",
       "    </tr>\n",
       "    <tr>\n",
       "      <th>9</th>\n",
       "      <td>4.750</td>\n",
       "      <td>2041-02-15</td>\n",
       "      <td>133.7734</td>\n",
       "      <td>912810QN1</td>\n",
       "      <td>2011-02-15</td>\n",
       "    </tr>\n",
       "    <tr>\n",
       "      <th>10</th>\n",
       "      <td>4.375</td>\n",
       "      <td>2040-05-15</td>\n",
       "      <td>126.8516</td>\n",
       "      <td>912810QH4</td>\n",
       "      <td>2010-05-17</td>\n",
       "    </tr>\n",
       "    <tr>\n",
       "      <th>11</th>\n",
       "      <td>4.250</td>\n",
       "      <td>2040-11-15</td>\n",
       "      <td>124.8672</td>\n",
       "      <td>912810QL5</td>\n",
       "      <td>2010-11-15</td>\n",
       "    </tr>\n",
       "    <tr>\n",
       "      <th>12</th>\n",
       "      <td>4.375</td>\n",
       "      <td>2041-05-15</td>\n",
       "      <td>127.2891</td>\n",
       "      <td>912810QQ4</td>\n",
       "      <td>2011-05-16</td>\n",
       "    </tr>\n",
       "    <tr>\n",
       "      <th>13</th>\n",
       "      <td>3.500</td>\n",
       "      <td>2039-02-15</td>\n",
       "      <td>112.3281</td>\n",
       "      <td>912810QA9</td>\n",
       "      <td>2009-02-17</td>\n",
       "    </tr>\n",
       "    <tr>\n",
       "      <th>14</th>\n",
       "      <td>3.875</td>\n",
       "      <td>2040-08-15</td>\n",
       "      <td>118.2734</td>\n",
       "      <td>912810QK7</td>\n",
       "      <td>2010-08-16</td>\n",
       "    </tr>\n",
       "    <tr>\n",
       "      <th>15</th>\n",
       "      <td>3.750</td>\n",
       "      <td>2041-08-15</td>\n",
       "      <td>116.2500</td>\n",
       "      <td>912810QS0</td>\n",
       "      <td>2011-08-15</td>\n",
       "    </tr>\n",
       "    <tr>\n",
       "      <th>16</th>\n",
       "      <td>3.125</td>\n",
       "      <td>2041-11-15</td>\n",
       "      <td>105.1016</td>\n",
       "      <td>912810QT8</td>\n",
       "      <td>2011-11-15</td>\n",
       "    </tr>\n",
       "    <tr>\n",
       "      <th>17</th>\n",
       "      <td>3.125</td>\n",
       "      <td>2042-02-15</td>\n",
       "      <td>105.0469</td>\n",
       "      <td>912810QU5</td>\n",
       "      <td>2012-02-15</td>\n",
       "    </tr>\n",
       "    <tr>\n",
       "      <th>18</th>\n",
       "      <td>3.000</td>\n",
       "      <td>2042-05-15</td>\n",
       "      <td>102.7188</td>\n",
       "      <td>912810QW1</td>\n",
       "      <td>2012-05-15</td>\n",
       "    </tr>\n",
       "    <tr>\n",
       "      <th>19</th>\n",
       "      <td>2.750</td>\n",
       "      <td>2042-08-15</td>\n",
       "      <td>98.0625</td>\n",
       "      <td>912810QX9</td>\n",
       "      <td>2012-08-15</td>\n",
       "    </tr>\n",
       "  </tbody>\n",
       "</table>\n",
       "</div>"
      ],
      "text/plain": [
       "    coupon   maturity     price      CUSIP      issue\n",
       "0    4.500 2036-02-15  128.4766  912810FT0 2006-02-15\n",
       "1    5.000 2037-05-15  136.5313  912810PU6 2007-08-15\n",
       "2    4.750 2037-02-15  132.5938  912810PT9 2007-02-15\n",
       "3    4.500 2038-05-15  128.7266  912810PX0 2008-08-15\n",
       "4    4.375 2038-02-15  126.6719  912810PW2 2008-02-15\n",
       "5    4.500 2039-08-15  128.8047  912810QC5 2009-08-17\n",
       "6    4.625 2040-02-15  131.0625  912810QE1 2010-02-16\n",
       "7    4.250 2039-05-15  124.5625  912810QB7 2009-05-15\n",
       "8    4.375 2039-11-15  126.7188  912810QD3 2009-11-16\n",
       "9    4.750 2041-02-15  133.7734  912810QN1 2011-02-15\n",
       "10   4.375 2040-05-15  126.8516  912810QH4 2010-05-17\n",
       "11   4.250 2040-11-15  124.8672  912810QL5 2010-11-15\n",
       "12   4.375 2041-05-15  127.2891  912810QQ4 2011-05-16\n",
       "13   3.500 2039-02-15  112.3281  912810QA9 2009-02-17\n",
       "14   3.875 2040-08-15  118.2734  912810QK7 2010-08-16\n",
       "15   3.750 2041-08-15  116.2500  912810QS0 2011-08-15\n",
       "16   3.125 2041-11-15  105.1016  912810QT8 2011-11-15\n",
       "17   3.125 2042-02-15  105.0469  912810QU5 2012-02-15\n",
       "18   3.000 2042-05-15  102.7188  912810QW1 2012-05-15\n",
       "19   2.750 2042-08-15   98.0625  912810QX9 2012-08-15"
      ]
     },
     "execution_count": 6,
     "metadata": {},
     "output_type": "execute_result"
    }
   ],
   "source": [
    "def get_treasury_futures_deliverables():\n",
    "    warnings.filterwarnings('ignore')\n",
    "    browser = webdriver.Chrome('C:/local/chrome/chromedriver.exe')\n",
    "    browser.get('https://cmegroup.quikstrike.net/Account/Login.aspx?ReturnUrl=/User/QuikStrikeView.aspx')\n",
    "    browser.implicitly_wait(3)\n",
    "\n",
    "    # Browser options\n",
    "    login = browser.find_element_by_name('ctl00$MainContent$ucLoginControl$LoginUser$UserName')\n",
    "    login.send_keys('jnewkirk')\n",
    "    psswd = browser.find_element_by_name('ctl00$MainContent$ucLoginControl$LoginUser$Password')\n",
    "    psswd.send_keys('l7kme8BFFTnM')\n",
    "    submit = browser.find_element_by_name('ctl00$MainContent$ucLoginControl$LoginUser$LoginButton')\n",
    "    submit.send_keys(keys.Keys.RETURN)\n",
    "    browser.find_element_by_name('chkAccept').click()\n",
    "    browser.find_element_by_name('btnContinue').click()\n",
    "    browser.get(\n",
    "        \"https://cmegroup.quikstrike.net/User/QuikStrikeView.aspx?sc=1&viewitemid=TreasuryDeliveryBasket&mode=&pid=2\")\n",
    "\n",
    "    element = browser.find_element_by_id(\"ctl00_MainContent_ucViewControl_TreasuryDeliveryBasket_lvTabs_ctrl1_lbFuture\")\n",
    "    element.click()\n",
    "    tableID = 'ctl00_MainContent_ucViewControl_TreasuryDeliveryBasket_ucBasketUSU7_ucDeliverables_lvDeliverables_tblDeliverables'\n",
    "    WebDriverWait(browser, 5).until(\n",
    "        expected_conditions.presence_of_element_located(\n",
    "            (By.ID, tableID )))\n",
    "    html = browser.page_source\n",
    "    soup = BeautifulSoup(html, 'lxml')\n",
    "    coupon = []\n",
    "    maturity_date= []\n",
    "    mid_price = []\n",
    "    CUSIP = []\n",
    "    issue_date = []\n",
    "    table = soup.find(lambda tag: tag.name == 'table' and tag.has_key('id') and tag['id'] == tableID)\n",
    "    for tr in table.find_all('tr')[2:]:\n",
    "        tds = tr.find_all('td')\n",
    "        coupon.append(float(tds[0].text))\n",
    "        maturity_date.append(datetime.strptime((tds[1].text.strip()), \"%m/%d/%Y\"))\n",
    "        mid_price.append(float(tds[2].text))\n",
    "        CUSIP.append(tds[3].text.strip()[:-1])\n",
    "        issue_date.append(datetime.strptime((tds[4].text.strip()), \"%m/%d/%Y\"))\n",
    "    browser.close()\n",
    "\n",
    "    columns = OrderedDict()\n",
    "    columns = {'coupon': coupon, 'maturity': maturity_date, 'price': mid_price,\n",
    "               'CUSIP': CUSIP,'issue': issue_date\n",
    "                }\n",
    "    df = pd.DataFrame(columns, columns=columns.keys())\n",
    "    warnings.filterwarnings('always')\n",
    "    return df\n",
    "\n",
    "deliverables = get_treasury_futures_deliverables()\n",
    "deliverables"
   ]
  },
  {
   "cell_type": "code",
   "execution_count": 7,
   "metadata": {},
   "outputs": [],
   "source": [
    "basket_maturity_dates = [Date(dt.day, dt.month, dt.year) for dt in deliverables['maturity']]\n",
    "basket_issue_dates = [Date(dt.day, dt.month, dt.year) for dt in deliverables['issue']]\n",
    "basket = list(zip(deliverables['coupon'], basket_issue_dates, basket_maturity_dates, deliverables['price']))"
   ]
  },
  {
   "cell_type": "markdown",
   "metadata": {},
   "source": [
    "# Calculation\n",
    "## Calibration of Yield Curve"
   ]
  },
  {
   "cell_type": "code",
   "execution_count": 8,
   "metadata": {
    "collapsed": true
   },
   "outputs": [],
   "source": [
    "treas_curr_date = pd.Timestamp(treas_curr.index.values[0])\n",
    "calc_date = Date(treas_curr_date.day, treas_curr_date.month, treas_curr_date.year)\n",
    "calc_date\n",
    "Settings.instance().evaluationDate = calc_date\n",
    "day_count_tbill = Actual360()\n",
    "day_count = ActualActual()\n",
    "calendar = UnitedStates()\n",
    "business_convention = Following\n",
    "end_of_month = False\n",
    "settlement_days = 0\n",
    "face_amount = 100\n",
    "coupon_frequency = Period(Semiannual)\n",
    "#coupon_frequency = Period(6, Months)"
   ]
  },
  {
   "cell_type": "code",
   "execution_count": 9,
   "metadata": {
    "collapsed": true
   },
   "outputs": [],
   "source": [
    "issue_dates = [calc_date]*len(treas_curr.columns)\n",
    "maturity_dates = [calendar.advance(calc_date,period) for period in periods_dict.values()]"
   ]
  },
  {
   "cell_type": "code",
   "execution_count": 10,
   "metadata": {},
   "outputs": [
    {
     "name": "stdout",
     "output_type": "stream",
     "text": [
      "[99.923, 99.90311111111112, 99.42649999999999, 98.79347222222222, 100, 100, 100, 100, 100, 100, 100]\n",
      "[0, 0, 0, 0, 0.013600000000000001, 0.0152, 0.0184, 0.0212, 0.0232, 0.0268, 0.029300000000000003]\n"
     ]
    }
   ],
   "source": [
    "yields = [np.asscalar(treas_curr.iloc[:,col].values)/100 for col in range(len(treas_curr.columns))]\n",
    "prices = [100*(1-yields[i]*day_count_tbill.yearFraction(calc_date,maturity_dates[i])) \n",
    "          if day_count.yearFraction(calc_date,maturity_dates[i])<=1 else 100 \n",
    "          for i in range(len(treas_curr.columns))]\n",
    "print(prices)\n",
    "coupons = [yields[i] if day_count.yearFraction(calc_date,maturity_dates[i])>1 else 0 \n",
    "           for i in range(len(treas_curr.columns))]\n",
    "print(coupons)"
   ]
  },
  {
   "cell_type": "code",
   "execution_count": 11,
   "metadata": {
    "collapsed": true
   },
   "outputs": [],
   "source": [
    "bond_helpers = []\n",
    "for coupon, issue_date, maturity_date, price in zip(coupons, issue_dates, maturity_dates, prices):\n",
    "    schedule = Schedule(calc_date, maturity_date, coupon_frequency, calendar, \n",
    "                        business_convention, business_convention, DateGeneration.Backward, False)\n",
    "    helper = FixedRateBondHelper(QuoteHandle(SimpleQuote(price)),\n",
    "        settlement_days,\n",
    "        face_amount,\n",
    "        schedule,\n",
    "        [coupon],\n",
    "        day_count,\n",
    "        business_convention\n",
    "        )\n",
    "    bond_helpers.append(helper)"
   ]
  },
  {
   "cell_type": "code",
   "execution_count": 12,
   "metadata": {},
   "outputs": [
    {
     "data": {
      "text/html": [
       "<div>\n",
       "<style>\n",
       "    .dataframe thead tr:only-child th {\n",
       "        text-align: right;\n",
       "    }\n",
       "\n",
       "    .dataframe thead th {\n",
       "        text-align: left;\n",
       "    }\n",
       "\n",
       "    .dataframe tbody tr th {\n",
       "        vertical-align: top;\n",
       "    }\n",
       "</style>\n",
       "<table border=\"1\" class=\"dataframe\">\n",
       "  <thead>\n",
       "    <tr style=\"text-align: right;\">\n",
       "      <th></th>\n",
       "      <th>Discount Factors</th>\n",
       "    </tr>\n",
       "  </thead>\n",
       "  <tbody>\n",
       "    <tr>\n",
       "      <th>August 24th, 2017</th>\n",
       "      <td>0.999230</td>\n",
       "    </tr>\n",
       "    <tr>\n",
       "      <th>August 28th, 2017</th>\n",
       "      <td>0.999031</td>\n",
       "    </tr>\n",
       "    <tr>\n",
       "      <th>January 29th, 2018</th>\n",
       "      <td>0.994265</td>\n",
       "    </tr>\n",
       "    <tr>\n",
       "      <th>July 27th, 2018</th>\n",
       "      <td>0.987935</td>\n",
       "    </tr>\n",
       "    <tr>\n",
       "      <th>July 29th, 2019</th>\n",
       "      <td>0.973159</td>\n",
       "    </tr>\n",
       "    <tr>\n",
       "      <th>July 27th, 2020</th>\n",
       "      <td>0.955472</td>\n",
       "    </tr>\n",
       "    <tr>\n",
       "      <th>July 27th, 2022</th>\n",
       "      <td>0.911931</td>\n",
       "    </tr>\n",
       "    <tr>\n",
       "      <th>July 29th, 2024</th>\n",
       "      <td>0.861081</td>\n",
       "    </tr>\n",
       "    <tr>\n",
       "      <th>July 27th, 2027</th>\n",
       "      <td>0.791043</td>\n",
       "    </tr>\n",
       "    <tr>\n",
       "      <th>July 27th, 2037</th>\n",
       "      <td>0.577300</td>\n",
       "    </tr>\n",
       "    <tr>\n",
       "      <th>July 29th, 2047</th>\n",
       "      <td>0.397331</td>\n",
       "    </tr>\n",
       "  </tbody>\n",
       "</table>\n",
       "</div>"
      ],
      "text/plain": [
       "                    Discount Factors\n",
       "August 24th, 2017           0.999230\n",
       "August 28th, 2017           0.999031\n",
       "January 29th, 2018          0.994265\n",
       "July 27th, 2018             0.987935\n",
       "July 29th, 2019             0.973159\n",
       "July 27th, 2020             0.955472\n",
       "July 27th, 2022             0.911931\n",
       "July 29th, 2024             0.861081\n",
       "July 27th, 2027             0.791043\n",
       "July 27th, 2037             0.577300\n",
       "July 29th, 2047             0.397331"
      ]
     },
     "execution_count": 12,
     "metadata": {},
     "output_type": "execute_result"
    }
   ],
   "source": [
    "yield_curve = PiecewiseCubicZero(calc_date, bond_helpers, day_count)\n",
    "yield_curve_handle = YieldTermStructureHandle(yield_curve)\n",
    "discount_factors = [yield_curve.discount(d) for d in maturity_dates]\n",
    "df_df = (pd.DataFrame.from_dict(dict(zip(maturity_dates, discount_factors)), orient='index'))\n",
    "df_df.columns = ['Discount Factors']\n",
    "df_df"
   ]
  },
  {
   "cell_type": "markdown",
   "metadata": {},
   "source": [
    "## Cheapest to Deliver"
   ]
  },
  {
   "cell_type": "code",
   "execution_count": 13,
   "metadata": {
    "collapsed": true
   },
   "outputs": [],
   "source": [
    "def create_tsy_security(bond_issue_date,\n",
    "                        bond_maturity_date,\n",
    "                        coupon_rate,\n",
    "                        coupon_frequency=Period(6, Months),\n",
    "                        day_count=ActualActual(),\n",
    "                        calendar=UnitedStates()\n",
    "                        ):\n",
    "    face_value = 100.\n",
    "    settlement_days = 0\n",
    "    schedule = Schedule(bond_issue_date,\n",
    "        bond_maturity_date,\n",
    "        coupon_frequency,\n",
    "        calendar,\n",
    "        ModifiedFollowing,\n",
    "        ModifiedFollowing,\n",
    "        DateGeneration.Forward,\n",
    "        False)\n",
    "    security = FixedRateBond(settlement_days,\n",
    "        face_value,\n",
    "        schedule,\n",
    "        [coupon_rate],\n",
    "        day_count\n",
    "        )\n",
    "    return security"
   ]
  },
  {
   "cell_type": "code",
   "execution_count": 14,
   "metadata": {},
   "outputs": [
    {
     "name": "stdout",
     "output_type": "stream",
     "text": [
      "153.09\n"
     ]
    }
   ],
   "source": [
    "print(futures_price)"
   ]
  },
  {
   "cell_type": "code",
   "execution_count": 15,
   "metadata": {},
   "outputs": [
    {
     "name": "stdout",
     "output_type": "stream",
     "text": [
      "0.885929638543\n",
      "0.833435693784421\n",
      "4.5\n",
      "February 15th, 2006\n",
      "February 15th, 2036\n",
      "128.4766\n"
     ]
    }
   ],
   "source": [
    "securities = []\n",
    "min_basis = 100; min_basis_index=-1\n",
    "for i, b in enumerate(basket):\n",
    "    coupon, issue, maturity, price = b\n",
    "    s = create_tsy_security(issue, maturity, coupon/100.0)\n",
    "    bond_engine = DiscountingBondEngine(yield_curve_handle)\n",
    "    s.setPricingEngine(bond_engine)\n",
    "    cf = BondFunctions.cleanPrice(s, 0.06, day_count, Compounded, Semiannual, calc_date)/100\n",
    "    adjusted_futures_price = futures_price *cf\n",
    "    basis = price - adjusted_futures_price\n",
    "    if basis< min_basis:\n",
    "        min_basis = basis\n",
    "        min_basis_index = i\n",
    "    securities.append((s, cf))\n",
    "ctd_info = basket[min_basis_index]\n",
    "ctd_bond, ctd_cf = securities[min_basis_index]\n",
    "ctd_price = ctd_info[2]\n",
    "print(min_basis)\n",
    "print(ctd_cf)\n",
    "print(ctd_info[0])\n",
    "print(ctd_info[1])\n",
    "print(ctd_info[2])\n",
    "print(ctd_info[3])\n"
   ]
  },
  {
   "cell_type": "markdown",
   "metadata": {},
   "source": [
    "# Futures Price and DV01"
   ]
  },
  {
   "cell_type": "code",
   "execution_count": 16,
   "metadata": {},
   "outputs": [],
   "source": [
    "delivery_date = Date(15, 9, 2017)\n",
    "futures = FixedRateBondForward(calc_date, delivery_date, Position.Long, 0.0, settlement_days,\n",
    "                               day_count, calendar, business_convention, ctd_bond,\n",
    "                               yield_curve_handle, yield_curve_handle)\n",
    "ctd_bond_yield = ctd_bond.bondYield(ctd_bond.dayCounter(),Compounded, Semiannual)\n",
    "y = InterestRate(ctd_bond_yield,ctd_bond.dayCounter(),Compounded, Semiannual)\n",
    "ctd_bond_duration = BondFunctions.duration(ctd_bond, y)\n",
    "ctd_bond_dv01 = ctd_bond_duration*ctd_info[3]*.0001\n",
    "futures_dv01 = ctd_bond_dv01/ctd_cf*1000"
   ]
  },
  {
   "cell_type": "code",
   "execution_count": 17,
   "metadata": {},
   "outputs": [
    {
     "data": {
      "text/plain": [
       "152.84767338473003"
      ]
     },
     "execution_count": 17,
     "metadata": {},
     "output_type": "execute_result"
    }
   ],
   "source": [
    "model_futures_price = futures.cleanForwardPrice()/ctd_cf\n",
    "model_futures_price"
   ]
  },
  {
   "cell_type": "code",
   "execution_count": 18,
   "metadata": {},
   "outputs": [
    {
     "name": "stdout",
     "output_type": "stream",
     "text": [
      "DV01 of CTD bond:  0.168841\n",
      "DV01 of futures contract: 202.584824\n",
      "Dollar Rho for 1% move: 303,877,236\n"
     ]
    }
   ],
   "source": [
    "print('DV01 of CTD bond: {:9.6f}'.format(ctd_bond_dv01))\n",
    "print('DV01 of futures contract: {:9.6f}'.format(futures_dv01))\n",
    "units = 15000\n",
    "print('Dollar Rho for 1% move: {:,.0f}'.format(units*futures_dv01*100))"
   ]
  }
 ],
 "metadata": {
  "kernelspec": {
   "display_name": "Python 3",
   "language": "python",
   "name": "python3"
  },
  "language_info": {
   "codemirror_mode": {
    "name": "ipython",
    "version": 3
   },
   "file_extension": ".py",
   "mimetype": "text/x-python",
   "name": "python",
   "nbconvert_exporter": "python",
   "pygments_lexer": "ipython3",
   "version": "3.6.1"
  }
 },
 "nbformat": 4,
 "nbformat_minor": 2
}
